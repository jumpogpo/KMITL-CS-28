{
  "nbformat": 4,
  "nbformat_minor": 0,
  "metadata": {
    "colab": {
      "provenance": []
    },
    "kernelspec": {
      "name": "python3",
      "display_name": "Python 3"
    },
    "language_info": {
      "name": "python"
    }
  },
  "cells": [
    {
      "cell_type": "markdown",
      "source": [
        "# Assignment 65050368 ธนภัทร์ เกิดเปี่ยม"
      ],
      "metadata": {
        "id": "R0DlSFnm3ulV"
      }
    },
    {
      "cell_type": "markdown",
      "source": [
        "# Week 1"
      ],
      "metadata": {
        "id": "ZOwedig84UIy"
      }
    },
    {
      "cell_type": "markdown",
      "source": [
        "## 1"
      ],
      "metadata": {
        "id": "J5rug43Q31Nc"
      }
    },
    {
      "cell_type": "code",
      "execution_count": null,
      "metadata": {
        "colab": {
          "base_uri": "https://localhost:8080/"
        },
        "id": "8ERZAkWd3o9E",
        "outputId": "7da55902-9bb1-4795-bd5b-d036bde1d504"
      },
      "outputs": [
        {
          "output_type": "stream",
          "name": "stdout",
          "text": [
            "Enter num1: 10\n",
            "Enter num2: 5\n",
            "Plus: 15\n",
            "Minus: 5\n"
          ]
        }
      ],
      "source": [
        "num1 = int(input(\"Enter num1: \"))\n",
        "num2 = int(input(\"Enter num2: \"))\n",
        "print(\"Plus:\", num1 + num2)\n",
        "print(\"Minus:\", num1 - num2)"
      ]
    },
    {
      "cell_type": "markdown",
      "source": [
        "## 2"
      ],
      "metadata": {
        "id": "bjxaQspC338U"
      }
    },
    {
      "cell_type": "code",
      "source": [
        "F = int(input(\"Enter fahrenheit: \"))\n",
        "print(f\"Fahrenheit: {F} = Celsius: {(F - 32) * 5 / 9}\")"
      ],
      "metadata": {
        "colab": {
          "base_uri": "https://localhost:8080/"
        },
        "id": "5Lbm_U8h33Y0",
        "outputId": "5039abb6-5e74-492f-dde9-cfe3a5362566"
      },
      "execution_count": null,
      "outputs": [
        {
          "output_type": "stream",
          "name": "stdout",
          "text": [
            "Enter fahrenheit: 77\n",
            "Fahrenheit: 77 = Celsius: 25.0\n"
          ]
        }
      ]
    },
    {
      "cell_type": "markdown",
      "source": [
        "## 3"
      ],
      "metadata": {
        "id": "PpuHMsVj35oU"
      }
    },
    {
      "cell_type": "code",
      "source": [
        "yard = int(input(\"Enter yard: \"))\n",
        "print(f\"Yard: {yard} = CM:\", yard * 90)"
      ],
      "metadata": {
        "colab": {
          "base_uri": "https://localhost:8080/"
        },
        "id": "KgDLS-yf37CN",
        "outputId": "62dd5d36-33d8-4ebf-ec06-c1782226ec13"
      },
      "execution_count": null,
      "outputs": [
        {
          "output_type": "stream",
          "name": "stdout",
          "text": [
            "Enter yard: 1\n",
            "Yard: 1 = CM: 90\n"
          ]
        }
      ]
    },
    {
      "cell_type": "markdown",
      "source": [
        "## Bonus"
      ],
      "metadata": {
        "id": "UXjkxAIB379F"
      }
    },
    {
      "cell_type": "code",
      "source": [
        "donut_amount = int(input(\"Enter donut amount: \"))\n",
        "\n",
        "box10 = donut_amount // 10\n",
        "donut_amount %= 10\n",
        "\n",
        "box5 = donut_amount // 5\n",
        "donut_amount %= 5\n",
        "\n",
        "box3 = donut_amount // 3\n",
        "donut_amount %= 3\n",
        "\n",
        "box1 = donut_amount // 1\n",
        "donut_amount %= 1\n",
        "\n",
        "print(\"Box 10:\", box10)\n",
        "print(\"Box 5:\", box5)\n",
        "print(\"Box 3:\", box3)\n",
        "print(\"Box 1:\", box1)\n",
        "print(\"Total Box:\", box10 + box5 + box3 + box1)"
      ],
      "metadata": {
        "colab": {
          "base_uri": "https://localhost:8080/"
        },
        "id": "Nt2bmEXr38oF",
        "outputId": "085f7bfc-2a1c-4ef8-b044-e1a34ebf70f2"
      },
      "execution_count": null,
      "outputs": [
        {
          "output_type": "stream",
          "name": "stdout",
          "text": [
            "Enter donut amount: 37\n",
            "Box 10: 3\n",
            "Box 5: 1\n",
            "Box 3: 0\n",
            "Box 1: 2\n",
            "Total Box: 6\n"
          ]
        }
      ]
    },
    {
      "cell_type": "markdown",
      "source": [
        "## 4"
      ],
      "metadata": {
        "id": "pUywsxkf7ylN"
      }
    },
    {
      "cell_type": "code",
      "source": [
        "score1 = int(input(f\"Enter score student 1: \"))\n",
        "score2 = int(input(f\"Enter score student 2: \"))\n",
        "score3 = int(input(f\"Enter score student 3: \"))\n",
        "\n",
        "min_score = score1\n",
        "max_score = score1\n",
        "\n",
        "if score2 < min_score:\n",
        "    min_score = score2\n",
        "if score2 > max_score:\n",
        "    max_score = score2\n",
        "\n",
        "if score3 < min_score:\n",
        "    min_score = score3\n",
        "if score3 > max_score:\n",
        "    max_score = score3\n",
        "\n",
        "print(\"Min:\", min_score)\n",
        "print(\"Max:\", max_score)\n"
      ],
      "metadata": {
        "colab": {
          "base_uri": "https://localhost:8080/"
        },
        "id": "i1TaaYQQ7za9",
        "outputId": "6073fa51-3ac2-494f-f0dc-bf58377e147d"
      },
      "execution_count": null,
      "outputs": [
        {
          "output_type": "stream",
          "name": "stdout",
          "text": [
            "Enter score student 1: 10\n",
            "Enter score student 2: 15\n",
            "Enter score student 3: 20\n",
            "Min: 10\n",
            "Max: 20\n"
          ]
        }
      ]
    },
    {
      "cell_type": "markdown",
      "source": [
        "## 5"
      ],
      "metadata": {
        "id": "rMvbR_Qb9yGs"
      }
    },
    {
      "cell_type": "code",
      "source": [
        "score = int(input(\"Enter score: \"))\n",
        "\n",
        "if (score >= 60):\n",
        "  print('S')\n",
        "else:\n",
        "  print('U')"
      ],
      "metadata": {
        "colab": {
          "base_uri": "https://localhost:8080/"
        },
        "id": "aJ-trjHN9y_9",
        "outputId": "a8fc4d7f-338a-4246-bc75-d7b355b8e43a"
      },
      "execution_count": null,
      "outputs": [
        {
          "output_type": "stream",
          "name": "stdout",
          "text": [
            "Enter score: 60\n",
            "S\n"
          ]
        }
      ]
    },
    {
      "cell_type": "markdown",
      "source": [
        "## 6"
      ],
      "metadata": {
        "id": "krTm4fa5BAYt"
      }
    },
    {
      "cell_type": "code",
      "source": [
        "height = int(input(\"Enter Height (cm): \"))\n",
        "weight = int(input(\"Enter weight (pounds): \"))\n",
        "bmi = (weight * 0.453) / (height * 0.01) ** 2\n",
        "\n",
        "if (bmi < 18.5):\n",
        "  print(\"นํ้าหนักตํ่ากว่าเกณฑ์\")\n",
        "elif (bmi >= 18.5 and bmi <= 24.9):\n",
        "  print(\"นํ้าหนักปกติ\")\n",
        "elif (bmi >= 25 and bmi <= 29.9):\n",
        "  print(\"นํ้าหนักมากกว่าเกณฑ์\")\n",
        "else:\n",
        "  print(\"คุณอ้วนมากๆ\")"
      ],
      "metadata": {
        "colab": {
          "base_uri": "https://localhost:8080/"
        },
        "id": "yjx0NH_PBAFN",
        "outputId": "2e140afd-72ea-4231-a9c5-f3203429339e"
      },
      "execution_count": null,
      "outputs": [
        {
          "output_type": "stream",
          "name": "stdout",
          "text": [
            "Enter Height (cm): 175\n",
            "Enter weight (pounds): 25\n",
            "นํ้าหนักตํ่ากว่าเกณฑ์\n"
          ]
        }
      ]
    },
    {
      "cell_type": "markdown",
      "source": [
        "## 7"
      ],
      "metadata": {
        "id": "DOmexs_ZDwIU"
      }
    },
    {
      "cell_type": "code",
      "source": [
        "quantity = int(input(\"จำนวนสินค้า: \"))\n",
        "price_per_item = 90\n",
        "\n",
        "if (quantity == 1):\n",
        "  price_per_item = 100\n",
        "elif (quantity >= 2 and quantity <= 4):\n",
        "  price_per_item = 98\n",
        "elif (quantity >= 5 and quantity <= 9):\n",
        "  price_per_item = 95\n",
        "else:\n",
        "  price_per_item = 90\n",
        "\n",
        "print(f\"ราคาสินค้าต่อชิ้น {price_per_item}\")\n",
        "print(f\"ราคารวม: {quantity * price_per_item}\")"
      ],
      "metadata": {
        "colab": {
          "base_uri": "https://localhost:8080/"
        },
        "id": "1au8CeFvCwi1",
        "outputId": "eabc1a19-d532-47de-b1dd-ab787ae54648"
      },
      "execution_count": null,
      "outputs": [
        {
          "output_type": "stream",
          "name": "stdout",
          "text": [
            "จำนวนสินค้า: 2\n",
            "ราคาสินค้าต่อชิ้น 98\n",
            "ราคารวม: 196\n"
          ]
        }
      ]
    },
    {
      "cell_type": "markdown",
      "source": [
        "# Week 2"
      ],
      "metadata": {
        "id": "mCB1XahJ2uLM"
      }
    },
    {
      "cell_type": "markdown",
      "source": [
        "# Bonus 1"
      ],
      "metadata": {
        "id": "O0jpS6jOCPeC"
      }
    },
    {
      "cell_type": "code",
      "source": [
        "total = 0\n",
        "amount = 0\n",
        "\n",
        "while True:\n",
        "  quantity = int(input(\"จำนวนสินค้า: \"))\n",
        "\n",
        "  if quantity == 0:\n",
        "    break\n",
        "\n",
        "  price_per_item = 90\n",
        "\n",
        "  if (quantity == 1):\n",
        "    price_per_item = 100\n",
        "  elif (quantity >= 2 and quantity <= 4):\n",
        "    price_per_item = 98\n",
        "  elif (quantity >= 5 and quantity <= 9):\n",
        "    price_per_item = 95\n",
        "  else:\n",
        "    price_per_item = 90\n",
        "\n",
        "  print(f\"{quantity} ชิ้น {quantity * price_per_item}\")\n",
        "  amount += quantity\n",
        "  total += quantity * price_per_item\n",
        "\n",
        "print(\"\\nสรุปผล\")\n",
        "print(f\"จำนวนสินค้าทั้งหมด {amount}\")\n",
        "print(f\"ราคารวม: {total}\")"
      ],
      "metadata": {
        "colab": {
          "base_uri": "https://localhost:8080/"
        },
        "id": "rTUegNi-CRcS",
        "outputId": "8bc3be4d-9aa7-4c12-d87c-cb7e2c9a6ac8"
      },
      "execution_count": null,
      "outputs": [
        {
          "output_type": "stream",
          "name": "stdout",
          "text": [
            "จำนวนสินค้า: 3\n",
            "3 ชิ้น 294\n",
            "จำนวนสินค้า: 10\n",
            "10 ชิ้น 900\n",
            "จำนวนสินค้า: 0\n",
            "\n",
            "สรุปผล\n",
            "จำนวนสินค้าทั้งหมด 13\n",
            "ราคารวม: 1194\n"
          ]
        }
      ]
    },
    {
      "cell_type": "markdown",
      "source": [
        "## Bonus 2"
      ],
      "metadata": {
        "id": "6TKfzC535go6"
      }
    },
    {
      "cell_type": "code",
      "source": [
        "odd = 0\n",
        "even = 0\n",
        "\n",
        "while True:\n",
        "  num = int(input(\"Enter number: \"))\n",
        "\n",
        "  if num == 0:\n",
        "    break\n",
        "\n",
        "  if num % 2 == 0:\n",
        "    even += 1\n",
        "  else:\n",
        "    odd += 1\n",
        "\n",
        "print(\"Event Win\" if even > odd else \"Odd Win\")"
      ],
      "metadata": {
        "colab": {
          "base_uri": "https://localhost:8080/"
        },
        "id": "NC0AoiRE5iRC",
        "outputId": "088d5722-fc68-43b5-dd32-763e16a2820c"
      },
      "execution_count": null,
      "outputs": [
        {
          "output_type": "stream",
          "name": "stdout",
          "text": [
            "Enter number: 2\n",
            "Enter number: 3\n",
            "Enter number: 4\n",
            "Enter number: 4\n",
            "Enter number: 0\n",
            "Event Win\n"
          ]
        }
      ]
    },
    {
      "cell_type": "markdown",
      "source": [
        "## Bonus 3"
      ],
      "metadata": {
        "id": "U9QD_Fzw7hEa"
      }
    },
    {
      "cell_type": "code",
      "source": [
        "print(\"Rock Paper Scissors Game\")\n",
        "enter = input(\"Please Enter R(Rock), P(Paper), S(Scissors) [Example: RSPSSR]: \")\n",
        "\n",
        "win_a = 0\n",
        "win_b = 0\n",
        "\n",
        "for i in range(0, len(enter), 2):\n",
        "  a = enter[i].lower()\n",
        "  b = enter[i + 1].lower()\n",
        "  round = win_a + win_b + 1\n",
        "\n",
        "  if a == b:\n",
        "    print(f\"Round {round}: Draw\")\n",
        "    continue;\n",
        "  elif (a == \"r\" and b == \"s\") or (a == \"p\" and b == \"r\") or (a == \"s\" and b == \"p\"):\n",
        "    win_a += 1\n",
        "    print(f\"Round {round}: A Win\")\n",
        "  else:\n",
        "    win_b += 1\n",
        "    print(f\"Round {round}: B Win\")\n",
        "\n",
        "if win_a == win_b:\n",
        "  print(\"Draw\")\n",
        "elif win_a > win_b:\n",
        "  print(\"A Win\")\n",
        "else:\n",
        "  print(\"B Win\")"
      ],
      "metadata": {
        "colab": {
          "base_uri": "https://localhost:8080/"
        },
        "id": "d40fl-ny7igr",
        "outputId": "57553e2d-0c41-4994-d14c-104cfda75587"
      },
      "execution_count": null,
      "outputs": [
        {
          "output_type": "stream",
          "name": "stdout",
          "text": [
            "Rock Paper Scissors Game\n",
            "Please Enter R(Rock), P(Paper), S(Scissors) [Example: RSPSSR]: RSPSSR\n",
            "Round 1: A Win\n",
            "Round 2: B Win\n",
            "Round 3: B Win\n",
            "B Win\n"
          ]
        }
      ]
    },
    {
      "cell_type": "markdown",
      "source": [
        "## 8"
      ],
      "metadata": {
        "id": "8K7CIDM34RVa"
      }
    },
    {
      "cell_type": "code",
      "source": [
        "sum = 0\n",
        "\n",
        "while True:\n",
        "  num = int(input(\"Enter number: \"))\n",
        "\n",
        "  if num == 0:\n",
        "    break\n",
        "\n",
        "  sum += num\n",
        "\n",
        "print(\"Sum is\", sum)"
      ],
      "metadata": {
        "colab": {
          "base_uri": "https://localhost:8080/"
        },
        "id": "wPSc5RmH4TKa",
        "outputId": "d354f8af-f8eb-4ac6-e8e0-a5e25423ae49"
      },
      "execution_count": null,
      "outputs": [
        {
          "output_type": "stream",
          "name": "stdout",
          "text": [
            "Enter number: 1\n",
            "Enter number: 2\n",
            "Enter number: 3\n",
            "Enter number: 4\n",
            "Enter number: 5\n",
            "Enter number: 0\n",
            "Sum is 15\n"
          ]
        }
      ]
    },
    {
      "cell_type": "markdown",
      "source": [
        "## 9"
      ],
      "metadata": {
        "id": "5-OrBAfl45bC"
      }
    },
    {
      "cell_type": "code",
      "source": [
        "total = 0\n",
        "\n",
        "for i in range(5):\n",
        "  num = int(input(\"Enter number: \"))\n",
        "  total += num\n",
        "\n",
        "print(\"Avg is\", total / 5)"
      ],
      "metadata": {
        "colab": {
          "base_uri": "https://localhost:8080/"
        },
        "id": "O-b9Jj2N4f67",
        "outputId": "db5c552c-85e0-4941-d82a-38731b79d353"
      },
      "execution_count": null,
      "outputs": [
        {
          "output_type": "stream",
          "name": "stdout",
          "text": [
            "Enter number: 80\n",
            "Enter number: 90\n",
            "Enter number: 80\n",
            "Enter number: 10\n",
            "Enter number: 20\n",
            "Avg is 56.0\n"
          ]
        }
      ]
    },
    {
      "cell_type": "markdown",
      "source": [
        "## 10"
      ],
      "metadata": {
        "id": "b3leE2wX47gz"
      }
    },
    {
      "cell_type": "code",
      "source": [
        "amount = 0\n",
        "total = 0\n",
        "\n",
        "while True:\n",
        "  num = int(input(\"Enter number: \"))\n",
        "\n",
        "  if num == 0:\n",
        "    break\n",
        "\n",
        "  amount += 1\n",
        "  total += num\n",
        "\n",
        "print(\"Total input:\", amount)\n",
        "print(\"Avg:\", total / amount)"
      ],
      "metadata": {
        "colab": {
          "base_uri": "https://localhost:8080/"
        },
        "id": "2FkbA9rX48RK",
        "outputId": "e707eb63-03f4-47d6-c4ce-1295ec4bd3ac"
      },
      "execution_count": null,
      "outputs": [
        {
          "output_type": "stream",
          "name": "stdout",
          "text": [
            "Enter number: 80\n",
            "Enter number: 90\n",
            "Enter number: 0\n",
            "Total input: 2\n",
            "Avg: 85.0\n"
          ]
        }
      ]
    }
  ]
}