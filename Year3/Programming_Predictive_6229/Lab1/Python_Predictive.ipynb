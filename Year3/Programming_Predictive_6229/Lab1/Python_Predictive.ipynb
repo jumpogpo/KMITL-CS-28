{
  "cells": [
    {
      "cell_type": "code",
      "execution_count": null,
      "metadata": {
        "colab": {
          "base_uri": "https://localhost:8080/"
        },
        "id": "Ib4OP4YEtJjm",
        "outputId": "e77bd1d3-5683-49fc-a0ae-2117f11050e8"
      },
      "outputs": [
        {
          "name": "stdout",
          "output_type": "stream",
          "text": [
            "\n",
            "⠀⠀⠀⠀⠀⠀⠀⠀⠀⠀⠀⠀   ⢀⣀⣴⣆⣀⡀⠀⠀⠀⠀⠀⠀⠀⠀⠀⠀⠀⠀\n",
            "⢀⣀⣀⣀⣀⣀⣀⡀⣀⣀⣀⣰⣾⣿⣿⣿⣿⡷⣄⣀⣀⣀⢀⣀⣀⣀⣀⣀⣀⡀\n",
            "⣿⣿⣿⣟⡯⣿⢿⣿⣿⡿⣿⣽⣿⣿⣿⣿⣿⣿⡯⣯⢿⣿⣟⡿⣫⣟⣻⣿⣿⡷\n",
            "⣿⣏⢿⣿⡿⠷⠿⠿⠿⠿⠿⠿⣿⣿⣿⣿⣿⣿⠿⠿⠿⠿⠿⠷⠿⢷⣽⣽⣿⣿\n",
            "⣻⣷⣯⣿⠀⠀⠀⠀⠀⠀⠀⠀⠀⠀⠀⠀⠀⠀⠀⠀           ⣿⣮⣾⣿\n",
            "⣻⣷⣿⣿⠀⠀⠀⠀⠀⠀⠀⠀⠀⠀⠀⠀⠀⠀⠀⠀⠀⠀⠀⠀⠀⠀    ⣿⣿⣾⣿\n",
            "⣿⣟⣯⣿⠀⠀⠀⠀⠀⠀⠀⠀⠀⠀⠀⠀⠀⠀⠀⠀⠀⠀⠀⠀⠀⠀    ⣿⣽⣿⣗\n",
            "⣿⣿⣫⣻⠀⠀⠀⠀⠀⠀⠀⠀⠀⠀⠀⠀⠀⠀⠀⠀⠀⠀⠀⠀⠀⠀    ⣟⣽⣿⣿\n",
            "⣿⣷⣿⣿                              ⣿⣿⣾⣿\n",
            "⣿⣟⢿⣿⠀⠀⠀⠀⠀⠀⠀⠀⠀⠀⠀⠀⠀⠀⠀⠀⠀⠀⠀⠀⠀⠀    ⣿⣽⣻⣿\n",
            "⣿⡿⣿⡿⡄  Name: Thanapat Koedpiam   ⢠⢻⣿⢾⣿\n",
            "⣽⣷⣾⣵⠃ Nickname: Chokun, Age: 20⠀⠀⠘⣮⣿⣿⡿\n",
            "⣿⣿⡷⣿⠀⠀⠀⠀⠀⠀⠀⠀⠀⠀⠀⠀⠀⠀⠀⠀⠀⠀⠀⠀⠀⠀    ⣿⠿⣿⣿\n",
            "⣿⣿⣿⣿⠀⠀⠀⠀⠀⠀⠀⠀⠀⠀⠀⠀⠀⠀⠀⠀⠀⠀⠀⠀⠀⠀    ⣿⣿⣿⣿\n",
            "⣿⣿⡿⣿⠀⠀⠀⠀⠀⠀⠀⠀⠀⠀⠀⠀⠀⠀⠀⠀⠀⠀⠀⠀⠀⠀    ⣿⢿⣾⣿\n",
            "⣿⡟⣽⣿⠀⠀⠀⠀⠀⠀⠀⠀⠀⠀⠀⠀⠀⠀⠀⠀⠀⠀⠀⠀⠀⠀    ⣿⢿⣿⣿\n",
            "⣿⣿⣿⣿⠀⠀⠀⠀⠀⠀⠀⠀⠀⠀⠀⠀⠀⠀⠀⠀⠀⠀⠀⠀⠀⠀    ⣿⣿⣿⣿\n",
            "⣿⣯⡿⣿⠀⠀⠀⠀⠀⠀⠀⠀⠀⠀⠀⠀⠀⠀⠀⠀⠀⠀⠀⠀⠀⠀    ⣿⡿⣽⣿\n",
            "⣿⡷⣳⣿⣀⣀⣀⣀⣀⣀⣀⣀⣀⣀⣀⣀⣀⣀⣀⣀⣀⣀⣀⣀⣀⣠⣿⣞⣾⣿\n",
            "⣿⣿⣷⣟⢿⣫⣽⣿⣿⣿⡿⣟⣽⣻⣿⣿⣟⣯⣻⢟⣿⣿⣿⣯⢝⡿⣿⣾⣿⣿\n",
            "⠹⢿⣿⣿⣿⣾⣿⣿⢿⣿⣿⣿⣿⣾⣿⡿⣿⣿⡿⡿⡿⡿⣷⡿⣷⣿⣿⡿⡿⠏\n",
            "\n"
          ]
        }
      ],
      "source": [
        "print(\"\"\"\n",
        "⠀⠀⠀⠀⠀⠀⠀⠀⠀⠀⠀⠀   ⢀⣀⣴⣆⣀⡀⠀⠀⠀⠀⠀⠀⠀⠀⠀⠀⠀⠀\n",
        "⢀⣀⣀⣀⣀⣀⣀⡀⣀⣀⣀⣰⣾⣿⣿⣿⣿⡷⣄⣀⣀⣀⢀⣀⣀⣀⣀⣀⣀⡀\n",
        "⣿⣿⣿⣟⡯⣿⢿⣿⣿⡿⣿⣽⣿⣿⣿⣿⣿⣿⡯⣯⢿⣿⣟⡿⣫⣟⣻⣿⣿⡷\n",
        "⣿⣏⢿⣿⡿⠷⠿⠿⠿⠿⠿⠿⣿⣿⣿⣿⣿⣿⠿⠿⠿⠿⠿⠷⠿⢷⣽⣽⣿⣿\n",
        "⣻⣷⣯⣿⠀⠀⠀⠀⠀⠀⠀⠀⠀⠀⠀⠀⠀⠀⠀⠀           ⣿⣮⣾⣿\n",
        "⣻⣷⣿⣿⠀⠀⠀⠀⠀⠀⠀⠀⠀⠀⠀⠀⠀⠀⠀⠀⠀⠀⠀⠀⠀⠀    ⣿⣿⣾⣿\n",
        "⣿⣟⣯⣿⠀⠀⠀⠀⠀⠀⠀⠀⠀⠀⠀⠀⠀⠀⠀⠀⠀⠀⠀⠀⠀⠀    ⣿⣽⣿⣗\n",
        "⣿⣿⣫⣻⠀⠀⠀⠀⠀⠀⠀⠀⠀⠀⠀⠀⠀⠀⠀⠀⠀⠀⠀⠀⠀⠀    ⣟⣽⣿⣿\n",
        "⣿⣷⣿⣿                              ⣿⣿⣾⣿\n",
        "⣿⣟⢿⣿⠀⠀⠀⠀⠀⠀⠀⠀⠀⠀⠀⠀⠀⠀⠀⠀⠀⠀⠀⠀⠀⠀    ⣿⣽⣻⣿\n",
        "⣿⡿⣿⡿⡄  Name: Thanapat Koedpiam   ⢠⢻⣿⢾⣿\n",
        "⣽⣷⣾⣵⠃ Nickname: Chokun, Age: 20⠀⠀⠘⣮⣿⣿⡿\n",
        "⣿⣿⡷⣿⠀⠀⠀⠀⠀⠀⠀⠀⠀⠀⠀⠀⠀⠀⠀⠀⠀⠀⠀⠀⠀⠀    ⣿⠿⣿⣿\n",
        "⣿⣿⣿⣿⠀⠀⠀⠀⠀⠀⠀⠀⠀⠀⠀⠀⠀⠀⠀⠀⠀⠀⠀⠀⠀⠀    ⣿⣿⣿⣿\n",
        "⣿⣿⡿⣿⠀⠀⠀⠀⠀⠀⠀⠀⠀⠀⠀⠀⠀⠀⠀⠀⠀⠀⠀⠀⠀⠀    ⣿⢿⣾⣿\n",
        "⣿⡟⣽⣿⠀⠀⠀⠀⠀⠀⠀⠀⠀⠀⠀⠀⠀⠀⠀⠀⠀⠀⠀⠀⠀⠀    ⣿⢿⣿⣿\n",
        "⣿⣿⣿⣿⠀⠀⠀⠀⠀⠀⠀⠀⠀⠀⠀⠀⠀⠀⠀⠀⠀⠀⠀⠀⠀⠀    ⣿⣿⣿⣿\n",
        "⣿⣯⡿⣿⠀⠀⠀⠀⠀⠀⠀⠀⠀⠀⠀⠀⠀⠀⠀⠀⠀⠀⠀⠀⠀⠀    ⣿⡿⣽⣿\n",
        "⣿⡷⣳⣿⣀⣀⣀⣀⣀⣀⣀⣀⣀⣀⣀⣀⣀⣀⣀⣀⣀⣀⣀⣀⣀⣠⣿⣞⣾⣿\n",
        "⣿⣿⣷⣟⢿⣫⣽⣿⣿⣿⡿⣟⣽⣻⣿⣿⣟⣯⣻⢟⣿⣿⣿⣯⢝⡿⣿⣾⣿⣿\n",
        "⠹⢿⣿⣿⣿⣾⣿⣿⢿⣿⣿⣿⣿⣾⣿⡿⣿⣿⡿⡿⡿⡿⣷⡿⣷⣿⣿⡿⡿⠏\n",
        "\"\"\")"
      ]
    },
    {
      "cell_type": "code",
      "execution_count": null,
      "metadata": {
        "colab": {
          "base_uri": "https://localhost:8080/"
        },
        "id": "nHn6hZaHxD7N",
        "outputId": "6abdb54b-a69f-4325-b455-0210ffc1bdd5"
      },
      "outputs": [
        {
          "name": "stdout",
          "output_type": "stream",
          "text": [
            "a = 10, b = 20\n",
            "a = 10, b = 20\n",
            "a = 10 , b = 20\n",
            "10 20\n"
          ]
        }
      ],
      "source": [
        "a = 10\n",
        "b = 20\n",
        "print(f\"a = {a}, b = {b}\") # Comment\n",
        "print(\"a = {}, b = {}\".format(a, b))\n",
        "print(\"a =\", a, \", b =\", b)\n",
        "print(a, b)"
      ]
    },
    {
      "cell_type": "code",
      "execution_count": null,
      "metadata": {
        "colab": {
          "base_uri": "https://localhost:8080/"
        },
        "id": "uHCTweFDym_k",
        "outputId": "ad018bdb-185e-41a3-f416-993fa74701ca"
      },
      "outputs": [
        {
          "name": "stdout",
          "output_type": "stream",
          "text": [
            "13\n",
            "7\n",
            "30\n",
            "3.3333333333333335\n",
            "3\n",
            "1\n",
            "1000\n"
          ]
        }
      ],
      "source": [
        "a, b = 10, 3\n",
        "print(a + b)\n",
        "print(a - b)\n",
        "print(a * b)\n",
        "print(a / b)\n",
        "print(a // b)\n",
        "print(a % b)\n",
        "print(a ** b)"
      ]
    },
    {
      "cell_type": "code",
      "execution_count": null,
      "metadata": {
        "colab": {
          "base_uri": "https://localhost:8080/"
        },
        "id": "L3riZIn60H5V",
        "outputId": "11feafde-582b-4da8-adf2-13dfa2a5a457"
      },
      "outputs": [
        {
          "name": "stdout",
          "output_type": "stream",
          "text": [
            "<class 'str'>\n",
            "<class 'int'>\n"
          ]
        }
      ],
      "source": [
        "st = \"20\"\n",
        "print(type(st))\n",
        "num = int(st)\n",
        "print(type(num))"
      ]
    },
    {
      "cell_type": "code",
      "execution_count": null,
      "metadata": {
        "colab": {
          "base_uri": "https://localhost:8080/"
        },
        "id": "tcri1xqf0WKt",
        "outputId": "9616a6dc-a30b-4a07-fe34-d973f647d6a9"
      },
      "outputs": [
        {
          "name": "stdout",
          "output_type": "stream",
          "text": [
            "Enter num1: 2\n",
            "Enter num2: 5\n",
            "7\n"
          ]
        }
      ],
      "source": [
        "num1 = int(input(\"Enter num1: \"))\n",
        "num2 = int(input(\"Enter num2: \"))\n",
        "print(num1 + num2)"
      ]
    },
    {
      "cell_type": "markdown",
      "metadata": {
        "id": "EpHsC6KJ1uuk"
      },
      "source": [
        "# Asignment"
      ]
    },
    {
      "cell_type": "markdown",
      "metadata": {
        "id": "nIfeCmun1wdG"
      },
      "source": [
        "## 1"
      ]
    },
    {
      "cell_type": "code",
      "execution_count": null,
      "metadata": {
        "colab": {
          "base_uri": "https://localhost:8080/"
        },
        "id": "_XJvaN4x1AU2",
        "outputId": "e8512a5d-d404-4931-d69e-4f0e671f2d8f"
      },
      "outputs": [
        {
          "name": "stdout",
          "output_type": "stream",
          "text": [
            "Enter num1: 10\n",
            "Enter num2: 5\n",
            "Plus: 15\n",
            "Minus: 5\n"
          ]
        }
      ],
      "source": [
        "# 1\n",
        "num1 = int(input(\"Enter num1: \"))\n",
        "num2 = int(input(\"Enter num2: \"))\n",
        "print(\"Plus:\", num1 + num2)\n",
        "print(\"Minus:\", num1 - num2)"
      ]
    },
    {
      "cell_type": "markdown",
      "metadata": {
        "id": "oCwdxuI-1yX1"
      },
      "source": [
        "## 2"
      ]
    },
    {
      "cell_type": "code",
      "execution_count": null,
      "metadata": {
        "colab": {
          "background_save": true,
          "base_uri": "https://localhost:8080/"
        },
        "id": "mhyTcgLM1zY8",
        "outputId": "8239204a-6cf6-47ab-e05d-56fab606f495"
      },
      "outputs": [
        {
          "name": "stdout",
          "output_type": "stream",
          "text": [
            "Fahrenheit : 77 = Celsius: 25.0\n"
          ]
        }
      ],
      "source": [
        "F = int(input(\"Enter fahrenheit: \"))\n",
        "print(f\"Fahrenheit : {F} = C: {(F - 32) * 5 / 9}\")"
      ]
    },
    {
      "cell_type": "markdown",
      "metadata": {
        "id": "BHOYuWwd2hml"
      },
      "source": [
        "## 3"
      ]
    },
    {
      "cell_type": "code",
      "execution_count": null,
      "metadata": {
        "colab": {
          "base_uri": "https://localhost:8080/"
        },
        "id": "FdFovSoH2g8l",
        "outputId": "4a039d7a-9f58-4b72-c3ea-9ecb730867f4"
      },
      "outputs": [
        {
          "name": "stdout",
          "output_type": "stream",
          "text": [
            "Enter yard: 1\n",
            "Yard: 1 = CM: 90\n"
          ]
        }
      ],
      "source": [
        "yard = int(input(\"Enter yard: \"))\n",
        "print(f\"Yard: {yard} = CM:\", yard * 90)"
      ]
    },
    {
      "cell_type": "code",
      "execution_count": null,
      "metadata": {
        "id": "buaQNatg27Fe"
      },
      "outputs": [],
      "source": []
    }
  ],
  "metadata": {
    "colab": {
      "provenance": []
    },
    "kernelspec": {
      "display_name": "Python 3",
      "name": "python3"
    },
    "language_info": {
      "name": "python"
    }
  },
  "nbformat": 4,
  "nbformat_minor": 0
}