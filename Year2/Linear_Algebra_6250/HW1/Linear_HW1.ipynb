{
  "nbformat": 4,
  "nbformat_minor": 0,
  "metadata": {
    "colab": {
      "provenance": []
    },
    "kernelspec": {
      "name": "python3",
      "display_name": "Python 3"
    },
    "language_info": {
      "name": "python"
    }
  },
  "cells": [
    {
      "cell_type": "code",
      "execution_count": 22,
      "metadata": {
        "id": "dJDnEvr0Yemf"
      },
      "outputs": [],
      "source": [
        "A = [[1,2,3], [3,2,1], [1,2,3]]\n",
        "B = [[4,5,6], [6,5,4], [4,6,5]]"
      ]
    },
    {
      "cell_type": "code",
      "source": [
        "AB = [[0,0,0], [0,0,0], [0,0,0]]\n",
        "\n",
        "for k in range(len(A)):\n",
        "  for i in range(len(A[0])):\n",
        "    for j in range(len(A)):\n",
        "      AB[k][i] += A[k][j] * B[j][i]"
      ],
      "metadata": {
        "id": "S0m50SfKYrNv"
      },
      "execution_count": 24,
      "outputs": []
    },
    {
      "cell_type": "code",
      "source": [
        "BA = [[0,0,0], [0,0,0], [0,0,0]]\n",
        "\n",
        "for k in range(len(B)):\n",
        "  for i in range(len(B[0])):\n",
        "    for j in range(len(B)):\n",
        "      BA[k][i] += B[k][j] * A[j][i]"
      ],
      "metadata": {
        "id": "iS_bruin-v7n"
      },
      "execution_count": 25,
      "outputs": []
    },
    {
      "cell_type": "code",
      "source": [
        "AB"
      ],
      "metadata": {
        "id": "IafC0lYe-971",
        "outputId": "5e40dcfe-d983-48ea-902f-85cd55e8852f",
        "colab": {
          "base_uri": "https://localhost:8080/"
        }
      },
      "execution_count": 26,
      "outputs": [
        {
          "output_type": "execute_result",
          "data": {
            "text/plain": [
              "[[28, 33, 29], [28, 31, 31], [28, 33, 29]]"
            ]
          },
          "metadata": {},
          "execution_count": 26
        }
      ]
    },
    {
      "cell_type": "code",
      "source": [
        "BA"
      ],
      "metadata": {
        "id": "XIioH_Hv-_p1",
        "outputId": "8d0b8af0-8cdf-4312-9180-493516e712c7",
        "colab": {
          "base_uri": "https://localhost:8080/"
        }
      },
      "execution_count": 27,
      "outputs": [
        {
          "output_type": "execute_result",
          "data": {
            "text/plain": [
              "[[25, 30, 35], [25, 30, 35], [27, 30, 33]]"
            ]
          },
          "metadata": {},
          "execution_count": 27
        }
      ]
    }
  ]
}