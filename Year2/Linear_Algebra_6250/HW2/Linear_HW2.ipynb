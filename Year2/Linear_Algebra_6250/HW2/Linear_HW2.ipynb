{
  "nbformat": 4,
  "nbformat_minor": 0,
  "metadata": {
    "colab": {
      "provenance": []
    },
    "kernelspec": {
      "name": "python3",
      "display_name": "Python 3"
    },
    "language_info": {
      "name": "python"
    }
  },
  "cells": [
    {
      "cell_type": "code",
      "source": [
        "A = [[2, 3, 4], [3, 3, 5], [1, 3, 6]]\n",
        "B = [[3, 4, 1], [8, 2, 4], [3, 8, 6]]"
      ],
      "metadata": {
        "id": "AdHRhc5cGOLF"
      },
      "execution_count": 1,
      "outputs": []
    },
    {
      "cell_type": "code",
      "source": [
        "def multiplication(A, B):\n",
        "  AB = [[0] * len(A[0]) for _ in range(len(A))]\n",
        "\n",
        "  for k in range(len(A)):\n",
        "    for i in range(len(A[k])):\n",
        "      AB[k][i] = 0\n",
        "      for j in range(len(B)):\n",
        "        AB[k][i] += A[k][j] * B[j][i]\n",
        "\n",
        "  return AB\n",
        "\n",
        "def transpose(A):\n",
        "  T = [[0] * len(A[0]) for _ in range(len(A))]\n",
        "\n",
        "  for i in range(len(A)):\n",
        "    for j in range(len(A[i])):\n",
        "      T[j][i] = A[i][j]\n",
        "\n",
        "  return T"
      ],
      "metadata": {
        "id": "kQ79WrzCJ4Wo"
      },
      "execution_count": 2,
      "outputs": []
    },
    {
      "cell_type": "code",
      "source": [
        "AB = multiplication(A, B)\n",
        "AB_Transpose = transpose(AB)"
      ],
      "metadata": {
        "id": "6FHSxXtFM6si"
      },
      "execution_count": 8,
      "outputs": []
    },
    {
      "cell_type": "code",
      "source": [
        "B_Transpose = transpose(B)\n",
        "A_Transpose = transpose(A)\n",
        "BA_Transpose = multiplication(B_Transpose, A_Transpose)"
      ],
      "metadata": {
        "id": "qCzn93MjNMre"
      },
      "execution_count": 9,
      "outputs": []
    },
    {
      "cell_type": "code",
      "source": [
        "print(\"A*B Transpose\")\n",
        "for i in AB_Transpose:\n",
        "  print(i)\n",
        "\n",
        "print(\"--------------\\nB_Transpose * A_Transpse\")\n",
        "\n",
        "for j in BA_Transpose:\n",
        "  print(j)"
      ],
      "metadata": {
        "colab": {
          "base_uri": "https://localhost:8080/"
        },
        "id": "gWr-G3IoNah1",
        "outputId": "f2f5fb99-c0ec-4136-dcd2-47a8dfb39bab"
      },
      "execution_count": 12,
      "outputs": [
        {
          "output_type": "stream",
          "name": "stdout",
          "text": [
            "A*B Transpose\n",
            "[42, 48, 45]\n",
            "[46, 58, 58]\n",
            "[38, 45, 49]\n",
            "--------------\n",
            "B_Transpose * A_Transpse\n",
            "[42, 48, 45]\n",
            "[46, 58, 58]\n",
            "[38, 45, 49]\n"
          ]
        }
      ]
    }
  ]
}