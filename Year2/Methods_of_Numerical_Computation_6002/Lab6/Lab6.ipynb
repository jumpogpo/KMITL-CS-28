{
 "cells": [
  {
   "cell_type": "code",
   "execution_count": 2,
   "metadata": {},
   "outputs": [
    {
     "data": {
      "text/plain": [
       "lu_decomposition (generic function with 1 method)"
      ]
     },
     "execution_count": 2,
     "metadata": {},
     "output_type": "execute_result"
    }
   ],
   "source": [
    "using LinearAlgebra\n",
    "\n",
    "function lu_decomposition(matrix)\n",
    "    n = size(matrix, 1)\n",
    "    lu_matrix = copy(matrix)\n",
    "\n",
    "    for k in 1:n\n",
    "        for i in k+1:n\n",
    "            factor = lu_matrix[i, k] / lu_matrix[k, k]\n",
    "            lu_matrix[i, k] = factor\n",
    "            lu_matrix[i, k+1:n] -= factor * lu_matrix[k, k+1:n]\n",
    "        end\n",
    "    end\n",
    "\n",
    "    return lu_matrix\n",
    "end"
   ]
  },
  {
   "cell_type": "code",
   "execution_count": 3,
   "metadata": {},
   "outputs": [
    {
     "name": "stdout",
     "output_type": "stream",
     "text": [
      "LU matrix:\n",
      "┌────────┬────────┬────────┐\n",
      "│\u001b[1m Col. 1 \u001b[0m│\u001b[1m Col. 2 \u001b[0m│\u001b[1m Col. 3 \u001b[0m│\n",
      "├────────┼────────┼────────┤\n",
      "│    1.0 │   -2.0 │    1.0 │\n",
      "│    2.0 │    5.0 │   -5.0 │\n",
      "│    4.0 │    0.2 │   -2.0 │\n",
      "└────────┴────────┴────────┘\n"
     ]
    }
   ],
   "source": [
    "using PrettyTables\n",
    "\n",
    "A = [\n",
    "    1.0 -2.0 1.0;\n",
    "    2.0 1.0 -3.0;\n",
    "    4.0 -7.0 1.0\n",
    "]\n",
    "\n",
    "b = [0; 5; -1]\n",
    "LU = lu_decomposition(A)\n",
    "\n",
    "println(\"LU matrix:\")\n",
    "pretty_table(LU)"
   ]
  },
  {
   "cell_type": "code",
   "execution_count": 4,
   "metadata": {},
   "outputs": [
    {
     "data": {
      "text/plain": [
       "lu_decomposition_with_pivot (generic function with 1 method)"
      ]
     },
     "execution_count": 4,
     "metadata": {},
     "output_type": "execute_result"
    }
   ],
   "source": [
    "function lu_decomposition_with_pivot(matrix)\n",
    "    n = size(matrix, 1)\n",
    "    lu_matrix = copy(matrix)\n",
    "    pivot = collect(1:n)\n",
    "    \n",
    "    for k in 1:n\n",
    "        # Find the pivot row\n",
    "        pivot_row = argmax(abs.(lu_matrix[k:n, k])) + k - 1\n",
    "\n",
    "        # Swap rows in Lu_matrix and update the pivot array\n",
    "        lu_matrix[[k, pivot_row], :] = lu_matrix[[pivot_row k], :]\n",
    "        pivot[k], pivot[pivot_row] = pivot[pivot_row], pivot[k]\n",
    "\n",
    "        for i in k+1:n\n",
    "            factor = lu_matrix[i, k] / lu_matrix[k, k]\n",
    "            lu_matrix[i, k] = factor\n",
    "            lu_matrix[i, k+1:n] -= factor * lu_matrix[k, k+1:n]\n",
    "        end\n",
    "    end\n",
    "\n",
    "    return lu_matrix, pivot\n",
    "end"
   ]
  },
  {
   "cell_type": "code",
   "execution_count": 5,
   "metadata": {},
   "outputs": [
    {
     "name": "stdout",
     "output_type": "stream",
     "text": [
      "LU matrix\n",
      "┌────────┬────────────┬──────────┐\n",
      "│\u001b[1m Col. 1 \u001b[0m│\u001b[1m     Col. 2 \u001b[0m│\u001b[1m   Col. 3 \u001b[0m│\n",
      "├────────┼────────────┼──────────┤\n",
      "│    4.0 │       -7.0 │      1.0 │\n",
      "│    0.5 │        4.5 │     -3.5 │\n",
      "│   0.25 │ -0.0555556 │ 0.555556 │\n",
      "└────────┴────────────┴──────────┘\n",
      "P matrix:\n",
      "┌────────┐\n",
      "│\u001b[1m Col. 1 \u001b[0m│\n",
      "├────────┤\n",
      "│      3 │\n",
      "│      2 │\n",
      "│      1 │\n",
      "└────────┘\n"
     ]
    }
   ],
   "source": [
    "A = [\n",
    "    1.0 -2.0 1.0;\n",
    "    2.0 1.0 -3.0;\n",
    "    4.0 -7.0 1.0\n",
    "]\n",
    "\n",
    "b = [0; 5; -1]\n",
    "LU_wp, P = lu_decomposition_with_pivot(A)\n",
    "\n",
    "println(\"LU matrix\")\n",
    "pretty_table(LU_wp)\n",
    "println(\"P matrix:\")\n",
    "pretty_table(P)"
   ]
  },
  {
   "cell_type": "code",
   "execution_count": 6,
   "metadata": {},
   "outputs": [
    {
     "data": {
      "text/plain": [
       "inverse_using_compact_lu (generic function with 1 method)"
      ]
     },
     "execution_count": 6,
     "metadata": {},
     "output_type": "execute_result"
    }
   ],
   "source": [
    "function inverse_using_compact_lu(LU, pivot)\n",
    "    n = size(LU, 1)\n",
    "    I_matrix = Matrix{Float64}(I, n, n)\n",
    "    pivot_inv = copy(pivot)\n",
    "\n",
    "    for (index, epivot) in pairs(pivot_inv)\n",
    "        pivot_inv[index] = n - pivot[index] + 1\n",
    "    end\n",
    "\n",
    "    LU_inv = I_matrix[ :, pivot ]\n",
    "\n",
    "    for j in 1:n\n",
    "        # Solve Ly = I for y\n",
    "        y = I_matrix[:, j]\n",
    "        for i in 1:n\n",
    "            for k in 1:i-1\n",
    "                y[i] -= LU[i, k] * y[k]\n",
    "            end\n",
    "        end\n",
    "\n",
    "        # Solve Ux = y for x\n",
    "        x = zeros(n)\n",
    "        for i in n:-1:1\n",
    "            for k in i+1:n\n",
    "                y[i] -= LU[i, k] * x[k]\n",
    "            end\n",
    "            x[i] = y[i] / LU[i, i]\n",
    "        end\n",
    "\n",
    "        # Update the inverse matrix column with the solution x\n",
    "        LU_inv[:, j] = x\n",
    "    end\n",
    "\n",
    "    LU_inv = reverse(LU_inv[ :, pivot_inv], dims=2)\n",
    "\n",
    "    return LU_inv\n",
    "end"
   ]
  },
  {
   "cell_type": "code",
   "execution_count": 7,
   "metadata": {},
   "outputs": [
    {
     "name": "stdout",
     "output_type": "stream",
     "text": [
      "┌────────┬────────┬────────┐\n",
      "│\u001b[1m Col. 1 \u001b[0m│\u001b[1m Col. 2 \u001b[0m│\u001b[1m Col. 3 \u001b[0m│\n",
      "├────────┼────────┼────────┤\n",
      "│    2.0 │    0.5 │   -0.5 │\n",
      "│    1.4 │    0.3 │   -0.5 │\n",
      "│    1.8 │    0.1 │   -0.5 │\n",
      "└────────┴────────┴────────┘\n"
     ]
    }
   ],
   "source": [
    "Ainv = inverse_using_compact_lu(LU_wp, P)\n",
    "pretty_table(Ainv)"
   ]
  },
  {
   "cell_type": "code",
   "execution_count": 8,
   "metadata": {},
   "outputs": [
    {
     "data": {
      "text/plain": [
       "thomas_algorithm (generic function with 1 method)"
      ]
     },
     "execution_count": 8,
     "metadata": {},
     "output_type": "execute_result"
    }
   ],
   "source": [
    "function thomas_algorithm(coeff_matrix, rhs)\n",
    "    n = size(coeff_matrix, 1)\n",
    "\n",
    "    # Forward elimination\n",
    "    for i in 2:n\n",
    "        m = coeff_matrix[i, i-1] / coeff_matrix[i-1, i-1]\n",
    "        coeff_matrix[i, i] -= m * coeff_matrix[i-1, i]\n",
    "        rhs[i] -= m * rhs[i-1]\n",
    "    end\n",
    "\n",
    "    # Backward substitution\n",
    "    x = zeros(eltype(coeff_matrix), n)\n",
    "    x[n] = rhs[n] / coeff_matrix[n, n]\n",
    "\n",
    "    for i in n-1:-1:1\n",
    "        x[i] = (rhs[i] - coeff_matrix[i, i+1] * x[i+1]) / coeff_matrix[i, i]\n",
    "    end\n",
    "\n",
    "    return x\n",
    "end"
   ]
  },
  {
   "cell_type": "code",
   "execution_count": 9,
   "metadata": {},
   "outputs": [
    {
     "name": "stdout",
     "output_type": "stream",
     "text": [
      "Solution x:\n",
      "┌──────────┐\n",
      "│\u001b[1m   Col. 1 \u001b[0m│\n",
      "├──────────┤\n",
      "│  1.92857 │\n",
      "│  3.28571 │\n",
      "│ -4.14286 │\n",
      "│  9.33333 │\n",
      "│ -8.69048 │\n",
      "│  7.57143 │\n",
      "└──────────┘\n"
     ]
    }
   ],
   "source": [
    "coeff_matrix = [\n",
    "    4.0 1.0 0.0 0.0 0.0 0.0;\n",
    "    2.0 5.0 2.0 0.0 0.0 0.0;\n",
    "    0.0 3.0 6.0 3.0 0.0 0.0;\n",
    "    0.0 0.0 4.0 7.0 4.0 0.0;\n",
    "    0.0 0.0 0.0 5.0 8.0 5.0;\n",
    "    0.0 0.0 0.0 0.0 6.0 9.0\n",
    "]\n",
    "\n",
    "rhs = [11.0, 12.0, 13.0, 14.0, 15.0, 16.0]\n",
    "\n",
    "x = thomas_algorithm(coeff_matrix, rhs)\n",
    "\n",
    "println(\"Solution x:\")\n",
    "pretty_table(x)"
   ]
  },
  {
   "cell_type": "code",
   "execution_count": 10,
   "metadata": {},
   "outputs": [
    {
     "data": {
      "text/plain": [
       "gauss_seidel (generic function with 2 methods)"
      ]
     },
     "execution_count": 10,
     "metadata": {},
     "output_type": "execute_result"
    }
   ],
   "source": [
    "function gauss_seidel(A, b, x0=zeros(size(b)); imax=100, es=1e-6)\n",
    "    n = length(b)\n",
    "    x = copy(x0)\n",
    "\n",
    "    for iter in 1:imax\n",
    "        for i in 1:n\n",
    "            sigma = 0.0\n",
    "            for j in 1:n\n",
    "                if j != i\n",
    "                    sigma += A[i, j] * x[j]\n",
    "                end\n",
    "            end\n",
    "            x[i] = (b[i] - sigma) / A[i, i]\n",
    "        end\n",
    "\n",
    "        # Check for convergence\n",
    "        if norm(A * x - b) < es\n",
    "            println(\"Converged after $iter iterations.\")\n",
    "            return x\n",
    "        end\n",
    "    end\n",
    "\n",
    "    println(\"Did not converge after $imax iterations.\")\n",
    "    return x\n",
    "end"
   ]
  },
  {
   "cell_type": "code",
   "execution_count": 11,
   "metadata": {},
   "outputs": [
    {
     "name": "stdout",
     "output_type": "stream",
     "text": [
      "Converged after 17 iterations.\n",
      "Solution x:\n",
      "┌──────────┐\n",
      "│\u001b[1m   Col. 1 \u001b[0m│\n",
      "├──────────┤\n",
      "│  1.23077 │\n",
      "│ 0.769231 │\n",
      "│  1.92308 │\n",
      "└──────────┘\n"
     ]
    }
   ],
   "source": [
    "A = [\n",
    "    4.0 -1.0 2.0;\n",
    "    1.0 5.0 1.0;\n",
    "    2.0 1.0 3.0\n",
    "]\n",
    "\n",
    "b = [8.0, 7.0, 9.0]\n",
    "\n",
    "x = gauss_seidel(A, b)\n",
    "\n",
    "println(\"Solution x:\")\n",
    "pretty_table(x)"
   ]
  },
  {
   "cell_type": "markdown",
   "metadata": {},
   "source": [
    "# Task"
   ]
  },
  {
   "cell_type": "code",
   "execution_count": 12,
   "metadata": {},
   "outputs": [
    {
     "name": "stdout",
     "output_type": "stream",
     "text": [
      "Inverse Matrix A:\n",
      "┌────────┬────────┬────────┐\n",
      "│\u001b[1m Col. 1 \u001b[0m│\u001b[1m Col. 2 \u001b[0m│\u001b[1m Col. 3 \u001b[0m│\n",
      "├────────┼────────┼────────┤\n",
      "│    4.0 │    3.0 │   -1.0 │\n",
      "│   -2.0 │   -2.0 │    1.0 │\n",
      "│    5.0 │    4.0 │   -1.0 │\n",
      "└────────┴────────┴────────┘\n"
     ]
    }
   ],
   "source": [
    "A = [\n",
    "    2.0 1.0 -1.0;\n",
    "    -3.0 -1.0 2.0;\n",
    "    -2.0 1.0 2.0\n",
    "]\n",
    "\n",
    "LU_matrix, Pivot = lu_decomposition_with_pivot(A)\n",
    "A_inverse = inverse_using_compact_lu(LU_matrix, Pivot)\n",
    "println(\"Inverse Matrix A:\")\n",
    "pretty_table(A_inverse)"
   ]
  }
 ],
 "metadata": {
  "kernelspec": {
   "display_name": "Julia 1.9.4",
   "language": "julia",
   "name": "julia-1.9"
  },
  "language_info": {
   "file_extension": ".jl",
   "mimetype": "application/julia",
   "name": "julia",
   "version": "1.9.4"
  }
 },
 "nbformat": 4,
 "nbformat_minor": 2
}
